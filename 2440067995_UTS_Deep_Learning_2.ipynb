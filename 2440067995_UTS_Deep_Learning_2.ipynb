{
  "metadata": {
    "kernelspec": {
      "language": "python",
      "display_name": "Python 3",
      "name": "python3"
    },
    "language_info": {
      "name": "python",
      "version": "3.7.12",
      "mimetype": "text/x-python",
      "codemirror_mode": {
        "name": "ipython",
        "version": 3
      },
      "pygments_lexer": "ipython3",
      "nbconvert_exporter": "python",
      "file_extension": ".py"
    },
    "colab": {
      "provenance": []
    }
  },
  "nbformat_minor": 0,
  "nbformat": 4,
  "cells": [
    {
      "cell_type": "markdown",
      "source": [
        "#Importing Libraries"
      ],
      "metadata": {
        "id": "s3BV46bv186E"
      }
    },
    {
      "cell_type": "code",
      "source": [
        "import cv2\n",
        "import os\n",
        "import pandas as pd\n",
        "import numpy as np\n",
        "import matplotlib.pyplot as plt\n",
        "import seaborn as sns\n",
        "import tensorflow as tf\n",
        "import tensorflow.keras as keras\n",
        "from keras.models import Sequential\n",
        "import keras.layers as layers\n",
        "from tensorflow.keras.layers import Dense\n",
        "from imblearn.over_sampling import SMOTE\n",
        "from sklearn.preprocessing import StandardScaler\n",
        "from sklearn.model_selection import train_test_split\n",
        "from sklearn.metrics import confusion_matrix, classification_report\n",
        "from tensorflow.keras.layers import Dropout\n",
        "from sklearn.metrics import precision_score\n",
        "from sklearn.metrics import f1_score\n",
        "from sklearn.metrics import recall_score"
      ],
      "metadata": {
        "execution": {
          "iopub.status.busy": "2022-11-25T05:49:37.612717Z",
          "iopub.execute_input": "2022-11-25T05:49:37.613219Z",
          "iopub.status.idle": "2022-11-25T05:49:37.623756Z",
          "shell.execute_reply.started": "2022-11-25T05:49:37.613180Z",
          "shell.execute_reply": "2022-11-25T05:49:37.622231Z"
        },
        "trusted": true,
        "id": "Mwv1ZQS01zv_"
      },
      "execution_count": null,
      "outputs": []
    },
    {
      "cell_type": "code",
      "source": [
        "from keras.preprocessing.image import ImageDataGenerator"
      ],
      "metadata": {
        "execution": {
          "iopub.status.busy": "2022-11-25T02:27:25.341564Z",
          "iopub.execute_input": "2022-11-25T02:27:25.342490Z",
          "iopub.status.idle": "2022-11-25T02:27:25.359585Z",
          "shell.execute_reply.started": "2022-11-25T02:27:25.342412Z",
          "shell.execute_reply": "2022-11-25T02:27:25.357903Z"
        },
        "trusted": true,
        "id": "iQqyKMLF1zwD"
      },
      "execution_count": null,
      "outputs": []
    },
    {
      "cell_type": "code",
      "source": [
        "from sklearn.metrics import accuracy_score"
      ],
      "metadata": {
        "execution": {
          "iopub.status.busy": "2022-11-25T02:27:25.361881Z",
          "iopub.execute_input": "2022-11-25T02:27:25.362531Z",
          "iopub.status.idle": "2022-11-25T02:27:25.372629Z",
          "shell.execute_reply.started": "2022-11-25T02:27:25.362476Z",
          "shell.execute_reply": "2022-11-25T02:27:25.370947Z"
        },
        "trusted": true,
        "id": "Yx79GvJv1zwE"
      },
      "execution_count": null,
      "outputs": []
    },
    {
      "cell_type": "markdown",
      "source": [
        "#Importing Dataset Path"
      ],
      "metadata": {
        "id": "7LOphtxo1_te"
      }
    },
    {
      "cell_type": "code",
      "source": [
        "train_path = '/kaggle/input/uts-deep-learning-2/ALS/asl_alphabet_train/asl_alphabet_train/'\n",
        "test_path = '/kaggle/input/uts-deep-learning-2/ALS/asl_alphabet_test/asl_alphabet_test/'"
      ],
      "metadata": {
        "execution": {
          "iopub.status.busy": "2022-11-25T02:27:25.379016Z",
          "iopub.execute_input": "2022-11-25T02:27:25.379637Z",
          "iopub.status.idle": "2022-11-25T02:27:25.388833Z",
          "shell.execute_reply.started": "2022-11-25T02:27:25.379595Z",
          "shell.execute_reply": "2022-11-25T02:27:25.387227Z"
        },
        "trusted": true,
        "id": "Nda0TwZv1zwF"
      },
      "execution_count": null,
      "outputs": []
    },
    {
      "cell_type": "code",
      "source": [
        "train_images = []\n",
        "train_images_label = []\n",
        "\n",
        "test_images = []\n",
        "test_images_label = []"
      ],
      "metadata": {
        "execution": {
          "iopub.status.busy": "2022-11-25T02:27:25.391062Z",
          "iopub.execute_input": "2022-11-25T02:27:25.391987Z",
          "iopub.status.idle": "2022-11-25T02:27:25.400363Z",
          "shell.execute_reply.started": "2022-11-25T02:27:25.391934Z",
          "shell.execute_reply": "2022-11-25T02:27:25.398572Z"
        },
        "trusted": true,
        "id": "RvskVN-E1zwF"
      },
      "execution_count": null,
      "outputs": []
    },
    {
      "cell_type": "code",
      "source": [
        "import string\n",
        "upper = list(string.ascii_uppercase)"
      ],
      "metadata": {
        "execution": {
          "iopub.status.busy": "2022-11-25T02:27:25.403030Z",
          "iopub.execute_input": "2022-11-25T02:27:25.403773Z",
          "iopub.status.idle": "2022-11-25T02:27:25.414038Z",
          "shell.execute_reply.started": "2022-11-25T02:27:25.403706Z",
          "shell.execute_reply": "2022-11-25T02:27:25.412333Z"
        },
        "trusted": true,
        "id": "ecMifAfP1zwG"
      },
      "execution_count": null,
      "outputs": []
    },
    {
      "cell_type": "code",
      "source": [
        "for abc in upper:\n",
        "    curr_path = train_path + abc + '/'\n",
        "    for i in os.listdir(curr_path):\n",
        "        train_images.append(curr_path + i)\n",
        "        train_images_label.append(abc)"
      ],
      "metadata": {
        "execution": {
          "iopub.status.busy": "2022-11-25T02:27:25.416011Z",
          "iopub.execute_input": "2022-11-25T02:27:25.417602Z",
          "iopub.status.idle": "2022-11-25T02:27:25.463490Z",
          "shell.execute_reply.started": "2022-11-25T02:27:25.417543Z",
          "shell.execute_reply": "2022-11-25T02:27:25.462095Z"
        },
        "trusted": true,
        "id": "RQgaVqZ51zwG"
      },
      "execution_count": null,
      "outputs": []
    },
    {
      "cell_type": "code",
      "source": [
        "for i in os.listdir(test_path):\n",
        "    test_images.append(test_path + i)\n",
        "    test_images_label.append((i.split('_',1))[0])"
      ],
      "metadata": {
        "execution": {
          "iopub.status.busy": "2022-11-25T02:27:25.465342Z",
          "iopub.execute_input": "2022-11-25T02:27:25.466810Z",
          "iopub.status.idle": "2022-11-25T02:27:25.475010Z",
          "shell.execute_reply.started": "2022-11-25T02:27:25.466751Z",
          "shell.execute_reply": "2022-11-25T02:27:25.473367Z"
        },
        "trusted": true,
        "id": "aRurQOEV1zwH"
      },
      "execution_count": null,
      "outputs": []
    },
    {
      "cell_type": "code",
      "source": [
        "print(len(train_images))\n",
        "print(len(test_images))"
      ],
      "metadata": {
        "execution": {
          "iopub.status.busy": "2022-11-25T02:27:25.477312Z",
          "iopub.execute_input": "2022-11-25T02:27:25.478801Z",
          "iopub.status.idle": "2022-11-25T02:27:25.488878Z",
          "shell.execute_reply.started": "2022-11-25T02:27:25.478742Z",
          "shell.execute_reply": "2022-11-25T02:27:25.487362Z"
        },
        "trusted": true,
        "id": "EM6lEylj1zwI",
        "outputId": "0968366f-edf7-4960-d448-00f64220394d"
      },
      "execution_count": null,
      "outputs": [
        {
          "name": "stdout",
          "text": "26000\n28\n",
          "output_type": "stream"
        }
      ]
    },
    {
      "cell_type": "code",
      "source": [
        "train_df_d = {'Images': train_images, 'Label': train_images_label}\n",
        "test_df_d = {'Images': test_images, 'Label': test_images_label}"
      ],
      "metadata": {
        "execution": {
          "iopub.status.busy": "2022-11-25T02:27:25.493137Z",
          "iopub.execute_input": "2022-11-25T02:27:25.494850Z",
          "iopub.status.idle": "2022-11-25T02:27:25.503378Z",
          "shell.execute_reply.started": "2022-11-25T02:27:25.494786Z",
          "shell.execute_reply": "2022-11-25T02:27:25.501515Z"
        },
        "trusted": true,
        "id": "BSLhrj8a1zwJ"
      },
      "execution_count": null,
      "outputs": []
    },
    {
      "cell_type": "code",
      "source": [
        "train_df = pd.DataFrame(train_df_d)\n",
        "test_df = pd.DataFrame(test_df_d)"
      ],
      "metadata": {
        "execution": {
          "iopub.status.busy": "2022-11-25T02:27:25.514933Z",
          "iopub.execute_input": "2022-11-25T02:27:25.518904Z",
          "iopub.status.idle": "2022-11-25T02:27:25.540157Z",
          "shell.execute_reply.started": "2022-11-25T02:27:25.518832Z",
          "shell.execute_reply": "2022-11-25T02:27:25.537362Z"
        },
        "trusted": true,
        "id": "m5yixTTH1zwK"
      },
      "execution_count": null,
      "outputs": []
    },
    {
      "cell_type": "code",
      "source": [
        "print(train_df.shape)\n",
        "print(test_df.shape)"
      ],
      "metadata": {
        "execution": {
          "iopub.status.busy": "2022-11-25T02:27:25.543709Z",
          "iopub.execute_input": "2022-11-25T02:27:25.544793Z",
          "iopub.status.idle": "2022-11-25T02:27:25.555377Z",
          "shell.execute_reply.started": "2022-11-25T02:27:25.544732Z",
          "shell.execute_reply": "2022-11-25T02:27:25.553552Z"
        },
        "trusted": true,
        "id": "EZICTe1u1zwK",
        "outputId": "886bb959-e9ac-42d9-ab2b-c014ad0ae1ca"
      },
      "execution_count": null,
      "outputs": [
        {
          "name": "stdout",
          "text": "(26000, 2)\n(28, 2)\n",
          "output_type": "stream"
        }
      ]
    },
    {
      "cell_type": "code",
      "source": [
        "X = train_df.loc[:,'Images']\n",
        "y = train_df.loc[:,'Label']"
      ],
      "metadata": {
        "execution": {
          "iopub.status.busy": "2022-11-25T02:27:25.558023Z",
          "iopub.execute_input": "2022-11-25T02:27:25.558907Z",
          "iopub.status.idle": "2022-11-25T02:27:25.570352Z",
          "shell.execute_reply.started": "2022-11-25T02:27:25.558854Z",
          "shell.execute_reply": "2022-11-25T02:27:25.568417Z"
        },
        "trusted": true,
        "id": "LFfkmGv81zwK"
      },
      "execution_count": null,
      "outputs": []
    },
    {
      "cell_type": "markdown",
      "source": [
        ">Disini, pada dataset yang dibuat, yang disimpan bukanlah vector image, melainkan direction path atas masing-masing image.\n",
        "\n",
        ">Nantinya, sebelum dilakukan fitting dan prediction, baru image akan di-generate dengan ImageDataGenerator."
      ],
      "metadata": {
        "id": "ItxP1hL-2NZw"
      }
    },
    {
      "cell_type": "markdown",
      "source": [
        "#Splitting Dataset (Train & Validation)"
      ],
      "metadata": {
        "id": "zdHgrL3l2CSu"
      }
    },
    {
      "cell_type": "code",
      "source": [
        "X_train, X_val, y_train, y_val = train_test_split(X, y, test_size = 0.2, random_state = 28, stratify=y)"
      ],
      "metadata": {
        "execution": {
          "iopub.status.busy": "2022-11-25T02:27:25.573372Z",
          "iopub.execute_input": "2022-11-25T02:27:25.574723Z",
          "iopub.status.idle": "2022-11-25T02:27:25.610482Z",
          "shell.execute_reply.started": "2022-11-25T02:27:25.574662Z",
          "shell.execute_reply": "2022-11-25T02:27:25.609051Z"
        },
        "trusted": true,
        "id": "yuXVGxZg1zwL"
      },
      "execution_count": null,
      "outputs": []
    },
    {
      "cell_type": "code",
      "source": [
        "valid_df= pd.DataFrame(columns=['Images','Label'])\n",
        "valid_df['Images'] = X_val\n",
        "valid_df['Label'] = y_val"
      ],
      "metadata": {
        "execution": {
          "iopub.status.busy": "2022-11-25T02:27:25.614681Z",
          "iopub.execute_input": "2022-11-25T02:27:25.615664Z",
          "iopub.status.idle": "2022-11-25T02:27:25.632820Z",
          "shell.execute_reply.started": "2022-11-25T02:27:25.615596Z",
          "shell.execute_reply": "2022-11-25T02:27:25.631210Z"
        },
        "trusted": true,
        "id": "qkUZIAsK1zwL"
      },
      "execution_count": null,
      "outputs": []
    },
    {
      "cell_type": "code",
      "source": [
        "X_test = test_df.loc[:,'Images']\n",
        "y_test = test_df.loc[:,'Label']"
      ],
      "metadata": {
        "execution": {
          "iopub.status.busy": "2022-11-25T02:27:25.635395Z",
          "iopub.execute_input": "2022-11-25T02:27:25.636613Z",
          "iopub.status.idle": "2022-11-25T02:27:25.646476Z",
          "shell.execute_reply.started": "2022-11-25T02:27:25.636546Z",
          "shell.execute_reply": "2022-11-25T02:27:25.645144Z"
        },
        "trusted": true,
        "id": "spGLnDNp1zwL"
      },
      "execution_count": null,
      "outputs": []
    },
    {
      "cell_type": "code",
      "source": [
        "train_df= pd.DataFrame(columns=['Images','Label'])\n",
        "train_df['Images'] = X_train\n",
        "train_df['Label'] = y_train"
      ],
      "metadata": {
        "execution": {
          "iopub.status.busy": "2022-11-25T02:27:25.648578Z",
          "iopub.execute_input": "2022-11-25T02:27:25.650427Z",
          "iopub.status.idle": "2022-11-25T02:27:25.667041Z",
          "shell.execute_reply.started": "2022-11-25T02:27:25.650361Z",
          "shell.execute_reply": "2022-11-25T02:27:25.665883Z"
        },
        "trusted": true,
        "id": "Yh8KAly61zwM"
      },
      "execution_count": null,
      "outputs": []
    },
    {
      "cell_type": "markdown",
      "source": [
        ">Disini saya menggunakan stratify = y agar pada validation dataset, split dataset membagi jumlah entry per class dengan sama rata."
      ],
      "metadata": {
        "id": "0RBYz7-q33Bt"
      }
    },
    {
      "cell_type": "markdown",
      "source": [
        "#Augmentation"
      ],
      "metadata": {
        "id": "_eamcFI02Huo"
      }
    },
    {
      "cell_type": "code",
      "source": [
        "datagen = ImageDataGenerator(\n",
        "        rotation_range=30, # rotation\n",
        "        zoom_range=0.2, # zoom\n",
        "        horizontal_flip=True, # horizontal flip\n",
        "        brightness_range=[0.2,1.2]) # brightness"
      ],
      "metadata": {
        "execution": {
          "iopub.status.busy": "2022-11-25T02:27:25.670310Z",
          "iopub.execute_input": "2022-11-25T02:27:25.671389Z",
          "iopub.status.idle": "2022-11-25T02:27:25.678798Z",
          "shell.execute_reply.started": "2022-11-25T02:27:25.671336Z",
          "shell.execute_reply": "2022-11-25T02:27:25.677270Z"
        },
        "trusted": true,
        "id": "EsuIwPpe1zwM"
      },
      "execution_count": null,
      "outputs": []
    },
    {
      "cell_type": "markdown",
      "source": [
        ">Beberapa penjelasan terkait augmentasi yang saya lakukan adalah sebagai berikut:\n",
        "*   Rotation_range = Saya masukkan karena berdasarkan analisa saya pada test dataset, terdapat foto tangan yang tidak tegak lurus pada sumbu vertical. Sehingga, untuk mengantisipasi hal tersebut, saya menambahkan rotation_range agar model dapat lebih robust dalam mengenali image yang miring saat ditesting.\n",
        "*   Zoom_range = Dalam pengamatan sekilas, walaupun bentuk sign language yang sama, tetapi ada sebagian foto yang lebih dekat dengan kamera dibandingkan yang lain. Oleh karenanya, saya menambahkan zoom_range agar apabila pada prediction test dataset terdapat foto sign language yang agak memenuhi layar, maka tetap dapat dikenali\n",
        "*   Horizontal flip = Saya menambahkan ini karena pada dataset, pada beberapa test data ada yang terbalik dari kiri ke kanan. Oleh karenanya, agar dapat menjaga akurasi, saya tambahkan sebagai True\n",
        "*   Brightness range = Setelah menganalisa foto-foto yang ada pada train dataset, ditemukan ada image dengan pencerahan yang baik dan ada juga yang tidak terkena pencerahan. Oleh karenanya, saya menambahkan brightness range agar model mampu mengenai sign language yang sama pada dataset walaupun pencahayaan yang redup maupun terang."
      ],
      "metadata": {
        "id": "HupjLh4Y2dSI"
      }
    },
    {
      "cell_type": "code",
      "source": [
        "datagen2 = ImageDataGenerator()"
      ],
      "metadata": {
        "execution": {
          "iopub.status.busy": "2022-11-25T02:27:25.681210Z",
          "iopub.execute_input": "2022-11-25T02:27:25.682398Z",
          "iopub.status.idle": "2022-11-25T02:27:25.698163Z",
          "shell.execute_reply.started": "2022-11-25T02:27:25.682339Z",
          "shell.execute_reply": "2022-11-25T02:27:25.696523Z"
        },
        "trusted": true,
        "id": "G6f6MUxx1zwM"
      },
      "execution_count": null,
      "outputs": []
    },
    {
      "cell_type": "markdown",
      "source": [
        ">Saya membuat Image Data Generator yang terpisah untuk dataset test. Hal ini karena test dataset tidak boleh diubah-ubah. Sehingga, saya tidak melakukan augmentasi pada test dataset."
      ],
      "metadata": {
        "id": "4eSXixRY3b1z"
      }
    },
    {
      "cell_type": "markdown",
      "source": [
        "#Generate Dataset's Images"
      ],
      "metadata": {
        "id": "aR-QGqCa2KCS"
      }
    },
    {
      "cell_type": "code",
      "source": [
        "train_generator_df = datagen.flow_from_dataframe(dataframe=train_df, \n",
        "                                              directory=train_path,\n",
        "                                              x_col=\"Images\", \n",
        "                                              y_col=\"Label\", \n",
        "                                              class_mode=\"categorical\", \n",
        "                                              target_size=(64, 64), \n",
        "                                              batch_size=16,\n",
        "                                              rescale=1.0/255,\n",
        "                                              seed=28)"
      ],
      "metadata": {
        "execution": {
          "iopub.status.busy": "2022-11-25T02:27:25.703382Z",
          "iopub.execute_input": "2022-11-25T02:27:25.703927Z",
          "iopub.status.idle": "2022-11-25T02:27:35.862195Z",
          "shell.execute_reply.started": "2022-11-25T02:27:25.703886Z",
          "shell.execute_reply": "2022-11-25T02:27:35.860710Z"
        },
        "trusted": true,
        "id": "QFr19J9-1zwN",
        "outputId": "66377d22-f1cc-4deb-9af5-dfb6de5baeb7"
      },
      "execution_count": null,
      "outputs": [
        {
          "name": "stdout",
          "text": "Found 20800 validated image filenames belonging to 26 classes.\n",
          "output_type": "stream"
        }
      ]
    },
    {
      "cell_type": "code",
      "source": [
        "test_generator_df = datagen.flow_from_dataframe(dataframe=test_df, \n",
        "                                              directory=test_path,\n",
        "                                              x_col=\"Images\", \n",
        "                                              y_col=\"Label\", \n",
        "                                              class_mode=\"categorical\", \n",
        "                                              target_size=(64, 64), \n",
        "                                              batch_size=16,\n",
        "                                              rescale=1.0/255,\n",
        "                                              seed=28,\n",
        "                                              shuffle = False)"
      ],
      "metadata": {
        "execution": {
          "iopub.status.busy": "2022-11-25T02:27:35.864317Z",
          "iopub.execute_input": "2022-11-25T02:27:35.865254Z",
          "iopub.status.idle": "2022-11-25T02:27:35.898182Z",
          "shell.execute_reply.started": "2022-11-25T02:27:35.865199Z",
          "shell.execute_reply": "2022-11-25T02:27:35.896498Z"
        },
        "trusted": true,
        "id": "JA7bV7Lr1zwN",
        "outputId": "67021543-89c3-4dc5-93f3-cfd2e545da8d"
      },
      "execution_count": null,
      "outputs": [
        {
          "name": "stdout",
          "text": "Found 28 validated image filenames belonging to 28 classes.\n",
          "output_type": "stream"
        }
      ]
    },
    {
      "cell_type": "code",
      "source": [
        "valid_generator_df = datagen.flow_from_dataframe(dataframe=valid_df, \n",
        "                                              directory=train_path,\n",
        "                                              x_col=\"Images\", \n",
        "                                              y_col=\"Label\", \n",
        "                                              class_mode=\"categorical\", \n",
        "                                              target_size=(64, 64), \n",
        "                                              batch_size=16,\n",
        "                                              rescale=1.0/255,\n",
        "                                              seed=28)"
      ],
      "metadata": {
        "execution": {
          "iopub.status.busy": "2022-11-25T02:27:35.901347Z",
          "iopub.execute_input": "2022-11-25T02:27:35.902593Z",
          "iopub.status.idle": "2022-11-25T02:27:38.360314Z",
          "shell.execute_reply.started": "2022-11-25T02:27:35.902522Z",
          "shell.execute_reply": "2022-11-25T02:27:38.358494Z"
        },
        "trusted": true,
        "id": "MyYuBybq1zwO",
        "outputId": "ebb54302-7ad5-42e2-eceb-6744351fae29"
      },
      "execution_count": null,
      "outputs": [
        {
          "name": "stdout",
          "text": "Found 5200 validated image filenames belonging to 26 classes.\n",
          "output_type": "stream"
        }
      ]
    },
    {
      "cell_type": "markdown",
      "source": [
        ">Untuk setiap data, baik test train dan valid, saya lakukan normalisasi. Target size disesuaikan dengan ketentuan soal, yaitu 64 x 64. Saya input class-mode sebagai 'categorical' karena output class bersifat kategorikal dari A - Z."
      ],
      "metadata": {
        "id": "J0m5NQK-3rBm"
      }
    },
    {
      "cell_type": "markdown",
      "source": [
        "#Modelling"
      ],
      "metadata": {
        "id": "IF0mkUnT4IuY"
      }
    },
    {
      "cell_type": "code",
      "source": [
        "model = Sequential()\n",
        "model.add(layers.Conv2D(64,kernel_size=5, input_shape=(64,64,3)))\n",
        "model.add(layers.Activation('relu'))\n",
        "model.add(layers.MaxPooling2D(pool_size=(3,3), strides=2))\n",
        "model.add(layers.Conv2D(32,kernel_size=5))\n",
        "model.add(layers.Activation('relu'))\n",
        "model.add(layers.MaxPooling2D(pool_size=(3,3), strides=2))\n",
        "model.add(layers.Conv2D(16,kernel_size=5))\n",
        "model.add(layers.Activation('relu'))\n",
        "model.add(layers.MaxPooling2D(pool_size=(3,3), strides=2))\n",
        "model.add(layers.Flatten())\n",
        "model.add(layers.Dense(26))\n",
        "model.add(layers.Activation('relu'))\n",
        "model.add(layers.Dense(26,activation=\"softmax\"))"
      ],
      "metadata": {
        "execution": {
          "iopub.status.busy": "2022-11-25T02:27:38.363074Z",
          "iopub.execute_input": "2022-11-25T02:27:38.364241Z",
          "iopub.status.idle": "2022-11-25T02:27:38.478419Z",
          "shell.execute_reply.started": "2022-11-25T02:27:38.364178Z",
          "shell.execute_reply": "2022-11-25T02:27:38.477011Z"
        },
        "trusted": true,
        "id": "8KwSfhwS1zwO"
      },
      "execution_count": null,
      "outputs": []
    },
    {
      "cell_type": "code",
      "source": [
        "model.summary()"
      ],
      "metadata": {
        "execution": {
          "iopub.status.busy": "2022-11-25T02:27:38.485055Z",
          "iopub.execute_input": "2022-11-25T02:27:38.485551Z",
          "iopub.status.idle": "2022-11-25T02:27:38.500943Z",
          "shell.execute_reply.started": "2022-11-25T02:27:38.485511Z",
          "shell.execute_reply": "2022-11-25T02:27:38.498964Z"
        },
        "trusted": true,
        "id": "rjV_NFK61zwO",
        "outputId": "ab6091ff-1b07-46ea-8eb1-bdd4111bd8a7"
      },
      "execution_count": null,
      "outputs": [
        {
          "name": "stdout",
          "text": "Model: \"sequential_1\"\n_________________________________________________________________\nLayer (type)                 Output Shape              Param #   \n=================================================================\nconv2d_3 (Conv2D)            (None, 60, 60, 64)        4864      \n_________________________________________________________________\nactivation_4 (Activation)    (None, 60, 60, 64)        0         \n_________________________________________________________________\nmax_pooling2d_3 (MaxPooling2 (None, 29, 29, 64)        0         \n_________________________________________________________________\nconv2d_4 (Conv2D)            (None, 25, 25, 32)        51232     \n_________________________________________________________________\nactivation_5 (Activation)    (None, 25, 25, 32)        0         \n_________________________________________________________________\nmax_pooling2d_4 (MaxPooling2 (None, 12, 12, 32)        0         \n_________________________________________________________________\nconv2d_5 (Conv2D)            (None, 8, 8, 16)          12816     \n_________________________________________________________________\nactivation_6 (Activation)    (None, 8, 8, 16)          0         \n_________________________________________________________________\nmax_pooling2d_5 (MaxPooling2 (None, 3, 3, 16)          0         \n_________________________________________________________________\nflatten_1 (Flatten)          (None, 144)               0         \n_________________________________________________________________\ndense_2 (Dense)              (None, 26)                3770      \n_________________________________________________________________\nactivation_7 (Activation)    (None, 26)                0         \n_________________________________________________________________\ndense_3 (Dense)              (None, 26)                702       \n=================================================================\nTotal params: 73,384\nTrainable params: 73,384\nNon-trainable params: 0\n_________________________________________________________________\n",
          "output_type": "stream"
        }
      ]
    },
    {
      "cell_type": "code",
      "source": [
        "model.compile(optimizer = 'adam', loss = 'categorical_crossentropy', metrics=['accuracy'])"
      ],
      "metadata": {
        "execution": {
          "iopub.status.busy": "2022-11-25T02:27:38.505969Z",
          "iopub.execute_input": "2022-11-25T02:27:38.513897Z",
          "iopub.status.idle": "2022-11-25T02:27:38.543330Z",
          "shell.execute_reply.started": "2022-11-25T02:27:38.513825Z",
          "shell.execute_reply": "2022-11-25T02:27:38.541761Z"
        },
        "trusted": true,
        "id": "aVRK74Jn1zwP"
      },
      "execution_count": null,
      "outputs": []
    },
    {
      "cell_type": "markdown",
      "source": [
        ">Disini saya menggunakan optimizer adam karena berdasarkan https://towardsdatascience.com/7-tips-to-choose-the-best-optimizer-47bb9c1219e#:~:text=Adam%20is%20the%20best%20among,for%20this%20type%20of%20datasets., Adam adalah salah satu optimizer terbaik."
      ],
      "metadata": {
        "id": "rcklTi4m4LLp"
      }
    },
    {
      "cell_type": "markdown",
      "source": [
        ">Saya juga menggunakan batch_size = 32 karena berdasarkan rujukan https://wandb.ai/ayush-thakur/dl-question-bank/reports/What-s-the-Optimal-Batch-Size-to-Train-a-Neural-Network---VmlldzoyMDkyNDU, size batch 32 adalah salah satu yang paling optimal bila dibandingkan dengan batch size yang lebih besar. Walaupun membutuhkan training time yang lebih lama, tetapi disini saya lebih mementingkan performa daripada DNN model yang dibuat."
      ],
      "metadata": {
        "id": "XFhVSI9u4iFQ"
      }
    },
    {
      "cell_type": "code",
      "source": [
        "batch_size = 32\n",
        "model.fit_generator(train_generator_df, \n",
        "                    epochs=30,  # one forward/backward pass of training data\n",
        "                    steps_per_epoch = X_train.shape[0]//batch_size,  # number of images comprising of one epoch\n",
        "                    validation_data = valid_generator_df,  # Or validation_data=valid_generator\n",
        "                    validation_steps = X_val.shape[0]//batch_size)"
      ],
      "metadata": {
        "execution": {
          "iopub.status.busy": "2022-11-25T02:27:38.545975Z",
          "iopub.execute_input": "2022-11-25T02:27:38.551191Z",
          "iopub.status.idle": "2022-11-25T03:08:00.500073Z",
          "shell.execute_reply.started": "2022-11-25T02:27:38.551119Z",
          "shell.execute_reply": "2022-11-25T03:08:00.498560Z"
        },
        "trusted": true,
        "id": "tKhGVYwz1zwP",
        "outputId": "58d101c4-bbc6-4970-df77-cefbea17284f"
      },
      "execution_count": null,
      "outputs": [
        {
          "name": "stderr",
          "text": "/opt/conda/lib/python3.7/site-packages/keras/engine/training.py:1972: UserWarning: `Model.fit_generator` is deprecated and will be removed in a future version. Please use `Model.fit`, which supports generators.\n  warnings.warn('`Model.fit_generator` is deprecated and '\n",
          "output_type": "stream"
        },
        {
          "name": "stdout",
          "text": "Epoch 1/30\n650/650 [==============================] - 127s 194ms/step - loss: 3.3321 - accuracy: 0.0434 - val_loss: 3.1970 - val_accuracy: 0.0544\nEpoch 2/30\n650/650 [==============================] - 93s 143ms/step - loss: 3.1094 - accuracy: 0.0742 - val_loss: 3.0074 - val_accuracy: 0.0860\nEpoch 3/30\n650/650 [==============================] - 76s 118ms/step - loss: 3.0064 - accuracy: 0.1018 - val_loss: 2.9002 - val_accuracy: 0.1292\nEpoch 4/30\n650/650 [==============================] - 69s 106ms/step - loss: 2.9059 - accuracy: 0.1250 - val_loss: 2.8808 - val_accuracy: 0.1281\nEpoch 5/30\n650/650 [==============================] - 65s 100ms/step - loss: 2.7890 - accuracy: 0.1491 - val_loss: 2.7770 - val_accuracy: 0.1636\nEpoch 6/30\n650/650 [==============================] - 63s 97ms/step - loss: 2.7348 - accuracy: 0.1656 - val_loss: 2.6413 - val_accuracy: 0.1833\nEpoch 7/30\n650/650 [==============================] - 62s 95ms/step - loss: 2.5634 - accuracy: 0.1952 - val_loss: 2.4584 - val_accuracy: 0.2215\nEpoch 8/30\n650/650 [==============================] - 63s 97ms/step - loss: 2.4182 - accuracy: 0.2306 - val_loss: 2.4355 - val_accuracy: 0.2265\nEpoch 9/30\n650/650 [==============================] - 61s 94ms/step - loss: 2.2382 - accuracy: 0.2760 - val_loss: 2.0806 - val_accuracy: 0.3291\nEpoch 10/30\n650/650 [==============================] - 61s 95ms/step - loss: 2.0786 - accuracy: 0.3246 - val_loss: 1.9852 - val_accuracy: 0.3495\nEpoch 11/30\n650/650 [==============================] - 61s 94ms/step - loss: 1.9942 - accuracy: 0.3431 - val_loss: 1.8947 - val_accuracy: 0.3715\nEpoch 12/30\n650/650 [==============================] - 62s 95ms/step - loss: 1.8637 - accuracy: 0.3872 - val_loss: 1.8912 - val_accuracy: 0.3615\nEpoch 13/30\n650/650 [==============================] - 62s 95ms/step - loss: 1.8143 - accuracy: 0.4040 - val_loss: 1.8773 - val_accuracy: 0.3781\nEpoch 14/30\n650/650 [==============================] - 61s 94ms/step - loss: 1.9094 - accuracy: 0.3867 - val_loss: 1.6146 - val_accuracy: 0.4502\nEpoch 15/30\n650/650 [==============================] - 61s 94ms/step - loss: 1.6794 - accuracy: 0.4392 - val_loss: 1.5763 - val_accuracy: 0.4803\nEpoch 16/30\n650/650 [==============================] - 61s 94ms/step - loss: 1.6204 - accuracy: 0.4597 - val_loss: 1.5545 - val_accuracy: 0.4707\nEpoch 17/30\n650/650 [==============================] - 62s 95ms/step - loss: 1.6084 - accuracy: 0.4664 - val_loss: 1.5225 - val_accuracy: 0.5027\nEpoch 18/30\n650/650 [==============================] - 63s 97ms/step - loss: 1.5497 - accuracy: 0.4867 - val_loss: 1.5162 - val_accuracy: 0.5054\nEpoch 19/30\n650/650 [==============================] - 62s 96ms/step - loss: 1.5379 - accuracy: 0.4870 - val_loss: 1.4843 - val_accuracy: 0.4931\nEpoch 20/30\n650/650 [==============================] - 62s 95ms/step - loss: 1.4983 - accuracy: 0.5033 - val_loss: 1.4125 - val_accuracy: 0.5355\nEpoch 21/30\n650/650 [==============================] - 71s 109ms/step - loss: 1.4398 - accuracy: 0.5276 - val_loss: 1.5203 - val_accuracy: 0.5147\nEpoch 22/30\n650/650 [==============================] - 61s 94ms/step - loss: 1.4225 - accuracy: 0.5319 - val_loss: 1.4611 - val_accuracy: 0.5428\nEpoch 23/30\n650/650 [==============================] - 60s 92ms/step - loss: 1.3966 - accuracy: 0.5460 - val_loss: 1.3659 - val_accuracy: 0.5529\nEpoch 24/30\n650/650 [==============================] - 62s 95ms/step - loss: 1.3915 - accuracy: 0.5402 - val_loss: 1.3949 - val_accuracy: 0.5432\nEpoch 25/30\n650/650 [==============================] - 61s 94ms/step - loss: 1.3152 - accuracy: 0.5606 - val_loss: 1.3336 - val_accuracy: 0.5544\nEpoch 26/30\n650/650 [==============================] - 60s 92ms/step - loss: 1.3550 - accuracy: 0.5510 - val_loss: 1.2402 - val_accuracy: 0.5949\nEpoch 27/30\n650/650 [==============================] - 39s 60ms/step - loss: 1.2741 - accuracy: 0.5777 - val_loss: 1.2838 - val_accuracy: 0.5822\nEpoch 28/30\n650/650 [==============================] - 56s 86ms/step - loss: 1.3094 - accuracy: 0.5681 - val_loss: 1.3120 - val_accuracy: 0.5826\nEpoch 29/30\n650/650 [==============================] - 61s 93ms/step - loss: 1.2724 - accuracy: 0.5808 - val_loss: 1.2133 - val_accuracy: 0.5918\nEpoch 30/30\n650/650 [==============================] - 62s 95ms/step - loss: 1.2490 - accuracy: 0.5889 - val_loss: 1.1923 - val_accuracy: 0.6057\n",
          "output_type": "stream"
        },
        {
          "execution_count": 53,
          "output_type": "execute_result",
          "data": {
            "text/plain": "<keras.callbacks.History at 0x7fc4f105d790>"
          },
          "metadata": {}
        }
      ]
    },
    {
      "cell_type": "markdown",
      "source": [
        ">Setelah dilakukan training sebanyak 30 epochs, pada beberapa epochs terakhir, terjadi stuck pada peningkatan accuracy. Loss pada kedua train dan validation set juga cukup tinggi, di atas 1. "
      ],
      "metadata": {
        "id": "qYpaV9as4uuS"
      }
    },
    {
      "cell_type": "code",
      "source": [
        "pred = model.predict_generator(generator=test_generator_df)\n",
        "result_pred = []\n",
        "for i in pred.argmax(-1):\n",
        "    result_pred.append(upper[i])\n",
        "print(result_pred)\n",
        "print(accuracy_score(result_pred,y_test))"
      ],
      "metadata": {
        "execution": {
          "iopub.status.busy": "2022-11-25T03:10:10.538831Z",
          "iopub.execute_input": "2022-11-25T03:10:10.540166Z",
          "iopub.status.idle": "2022-11-25T03:10:10.802903Z",
          "shell.execute_reply.started": "2022-11-25T03:10:10.540117Z",
          "shell.execute_reply": "2022-11-25T03:10:10.801222Z"
        },
        "trusted": true,
        "id": "_wcuaSrA1zwP",
        "outputId": "1fac6d7f-22a2-41cb-a4cc-656f1a2d6873"
      },
      "execution_count": null,
      "outputs": [
        {
          "name": "stderr",
          "text": "/opt/conda/lib/python3.7/site-packages/keras/engine/training.py:2035: UserWarning: `Model.predict_generator` is deprecated and will be removed in a future version. Please use `Model.predict`, which supports generators.\n  warnings.warn('`Model.predict_generator` is deprecated and '\n",
          "output_type": "stream"
        },
        {
          "name": "stdout",
          "text": "['A', 'E', 'L', 'N', 'S', 'D', 'G', 'J', 'W', 'M', 'N', 'Y', 'H', 'Q', 'C', 'X', 'P', 'K', 'X', 'S', 'Y', 'O', 'A', 'R', 'F', 'V', 'I', 'K']\n0.6071428571428571\n",
          "output_type": "stream"
        }
      ]
    },
    {
      "cell_type": "markdown",
      "source": [
        ">Setelah di lakukan prediction dengan test data set, dapat dilihat bahwa base line CNN model memiliki tingkat akurasi yang kurang lebih sama, yaitu sekitar 60%an."
      ],
      "metadata": {
        "id": "aw1iZ5jm47ec"
      }
    },
    {
      "cell_type": "markdown",
      "source": [
        "#Model Improvement Attempt 1"
      ],
      "metadata": {
        "id": "Q6lvMGkc5G9R"
      }
    },
    {
      "cell_type": "markdown",
      "source": [
        ">Disini, saya menggunakan kombinasi output feature pada layer konvolusi. Jumlah output feature yang saya masukkan bersifat increment, dari 32 hingga 128. Hal ini karena pada layer awal, jumlah detail yang ingin dieksplor belum begitu dalam. Namun, seiring melewati layer, maka jumlah detail yang ingin dijelajah lebih banyak, sehingga output features saya tambahkan biar semakin banyak.\n",
        "\n",
        ">Untuk setiap layer konvolusi yang terjadi, saya selipkan batch normalization. Hal ini agar process learning dapat dipercepat. Berdasarkan https://www.quora.com/Why-do-we-use-batch-normalization-in-a-convolution-neural-network-images-classification, batch normalization dapat 'meluruskan' model yang semulanya mengejar batch yang berubah-ubah.\n",
        "\n",
        ">Pada dense layer, saya tambahkan 1 ekstra dense layer agar menambahkan jumlah komputasi yang terjadi, pada dense layer pertama, node berjumlah 128, saya samakan pada output feature pada layer konvolusi terakhir. \n",
        "\n",
        ">Selanjutnya, saya tambahkan dropout layers karena dirujuk dari https://machinelearningmastery.com/dropout-for-regularizing-deep-neural-networks/, dapat mengurangi potensi terjadinya overfitting. Hal ini karena pada proses training base model, rendahnya akurasi dan lonjakan tingkat akurasi baik pada validation data maupun test data bisa saja disebabkan oleh overfitting.\n",
        "\n"
      ],
      "metadata": {
        "id": "vBQ2yIb35OuY"
      }
    },
    {
      "cell_type": "code",
      "source": [
        "keras.backend.clear_session()\n",
        "model2 = Sequential()\n",
        "model2.add(layers.Conv2D(32,kernel_size=5, input_shape=(64,64,3)))\n",
        "model2.add(layers.Activation('relu'))\n",
        "model2.add(layers.BatchNormalization())\n",
        "\n",
        "model2.add(layers.MaxPooling2D(pool_size=(3,3), strides=2))\n",
        "model2.add(layers.Conv2D(64,kernel_size=5))\n",
        "model2.add(layers.Activation('relu'))\n",
        "model2.add(layers.BatchNormalization())\n",
        "\n",
        "model2.add(layers.MaxPooling2D(pool_size=(3,3), strides=2))\n",
        "model2.add(layers.Conv2D(128,kernel_size=5))\n",
        "model2.add(layers.Activation('relu'))\n",
        "model2.add(layers.BatchNormalization())\n",
        "\n",
        "model2.add(layers.MaxPooling2D(pool_size=(3,3), strides=2))\n",
        "model2.add(layers.Flatten())\n",
        "model2.add(layers.Dense(128))\n",
        "model2.add(layers.Activation('relu'))\n",
        "model2.add(layers.Dropout(0.5))\n",
        "model2.add(layers.Dense(64))\n",
        "model2.add(layers.Activation('relu'))\n",
        "model2.add(layers.Dropout(0.5))\n",
        "\n",
        "model2.add(layers.Dense(26,activation=\"softmax\"))"
      ],
      "metadata": {
        "execution": {
          "iopub.status.busy": "2022-11-25T05:06:25.907558Z",
          "iopub.execute_input": "2022-11-25T05:06:25.908033Z",
          "iopub.status.idle": "2022-11-25T05:06:26.103263Z",
          "shell.execute_reply.started": "2022-11-25T05:06:25.907995Z",
          "shell.execute_reply": "2022-11-25T05:06:26.101810Z"
        },
        "trusted": true,
        "id": "eqApz3IP1zwQ"
      },
      "execution_count": null,
      "outputs": []
    },
    {
      "cell_type": "code",
      "source": [
        "model2.summary()"
      ],
      "metadata": {
        "execution": {
          "iopub.status.busy": "2022-11-25T05:06:28.886961Z",
          "iopub.execute_input": "2022-11-25T05:06:28.888527Z",
          "iopub.status.idle": "2022-11-25T05:06:28.900652Z",
          "shell.execute_reply.started": "2022-11-25T05:06:28.888436Z",
          "shell.execute_reply": "2022-11-25T05:06:28.898262Z"
        },
        "trusted": true,
        "id": "t8HMwKG61zwQ",
        "outputId": "2b983d72-ef83-4117-c291-5a02fa7617c6"
      },
      "execution_count": null,
      "outputs": [
        {
          "name": "stdout",
          "text": "Model: \"sequential\"\n_________________________________________________________________\nLayer (type)                 Output Shape              Param #   \n=================================================================\nconv2d (Conv2D)              (None, 60, 60, 32)        2432      \n_________________________________________________________________\nactivation (Activation)      (None, 60, 60, 32)        0         \n_________________________________________________________________\nbatch_normalization (BatchNo (None, 60, 60, 32)        128       \n_________________________________________________________________\nmax_pooling2d (MaxPooling2D) (None, 29, 29, 32)        0         \n_________________________________________________________________\nconv2d_1 (Conv2D)            (None, 25, 25, 64)        51264     \n_________________________________________________________________\nactivation_1 (Activation)    (None, 25, 25, 64)        0         \n_________________________________________________________________\nbatch_normalization_1 (Batch (None, 25, 25, 64)        256       \n_________________________________________________________________\nmax_pooling2d_1 (MaxPooling2 (None, 12, 12, 64)        0         \n_________________________________________________________________\nconv2d_2 (Conv2D)            (None, 8, 8, 128)         204928    \n_________________________________________________________________\nactivation_2 (Activation)    (None, 8, 8, 128)         0         \n_________________________________________________________________\nbatch_normalization_2 (Batch (None, 8, 8, 128)         512       \n_________________________________________________________________\nmax_pooling2d_2 (MaxPooling2 (None, 3, 3, 128)         0         \n_________________________________________________________________\nflatten (Flatten)            (None, 1152)              0         \n_________________________________________________________________\ndense (Dense)                (None, 64)                73792     \n_________________________________________________________________\nactivation_3 (Activation)    (None, 64)                0         \n_________________________________________________________________\ndropout (Dropout)            (None, 64)                0         \n_________________________________________________________________\ndense_1 (Dense)              (None, 64)                4160      \n_________________________________________________________________\nactivation_4 (Activation)    (None, 64)                0         \n_________________________________________________________________\ndropout_1 (Dropout)          (None, 64)                0         \n_________________________________________________________________\ndense_2 (Dense)              (None, 26)                1690      \n=================================================================\nTotal params: 339,162\nTrainable params: 338,714\nNon-trainable params: 448\n_________________________________________________________________\n",
          "output_type": "stream"
        }
      ]
    },
    {
      "cell_type": "code",
      "source": [
        "model2.compile(optimizer = 'adam', loss = 'categorical_crossentropy', metrics=['accuracy'])"
      ],
      "metadata": {
        "execution": {
          "iopub.status.busy": "2022-11-25T05:06:31.195307Z",
          "iopub.execute_input": "2022-11-25T05:06:31.196260Z",
          "iopub.status.idle": "2022-11-25T05:06:31.213557Z",
          "shell.execute_reply.started": "2022-11-25T05:06:31.196212Z",
          "shell.execute_reply": "2022-11-25T05:06:31.211911Z"
        },
        "trusted": true,
        "id": "TS1BpgGs1zwQ"
      },
      "execution_count": null,
      "outputs": []
    },
    {
      "cell_type": "code",
      "source": [
        "batch_size = 32\n",
        "model2.fit_generator(train_generator_df, \n",
        "                    epochs=30,  # one forward/backward pass of training data\n",
        "                    steps_per_epoch = X_train.shape[0]//batch_size,  # number of images comprising of one epoch\n",
        "                    validation_data = valid_generator_df,  # Or validation_data=valid_generator\n",
        "                    validation_steps = X_val.shape[0]//batch_size)"
      ],
      "metadata": {
        "execution": {
          "iopub.status.busy": "2022-11-25T05:06:33.436130Z",
          "iopub.execute_input": "2022-11-25T05:06:33.436656Z",
          "iopub.status.idle": "2022-11-25T05:44:51.759160Z",
          "shell.execute_reply.started": "2022-11-25T05:06:33.436614Z",
          "shell.execute_reply": "2022-11-25T05:44:51.757684Z"
        },
        "trusted": true,
        "id": "-igwFqI51zwQ",
        "outputId": "8bee270e-6b28-4172-dfa8-8ffd2fa55133"
      },
      "execution_count": null,
      "outputs": [
        {
          "name": "stdout",
          "text": "Epoch 1/30\n650/650 [==============================] - 64s 96ms/step - loss: 3.2675 - accuracy: 0.0629 - val_loss: 3.0693 - val_accuracy: 0.0949\nEpoch 2/30\n650/650 [==============================] - 62s 95ms/step - loss: 3.0328 - accuracy: 0.0987 - val_loss: 2.9880 - val_accuracy: 0.1003\nEpoch 3/30\n650/650 [==============================] - 62s 96ms/step - loss: 2.8342 - accuracy: 0.1240 - val_loss: 2.4480 - val_accuracy: 0.2188\nEpoch 4/30\n650/650 [==============================] - 62s 96ms/step - loss: 2.6012 - accuracy: 0.1647 - val_loss: 2.7591 - val_accuracy: 0.1871\nEpoch 5/30\n650/650 [==============================] - 62s 96ms/step - loss: 2.3665 - accuracy: 0.2108 - val_loss: 2.4020 - val_accuracy: 0.2010\nEpoch 6/30\n650/650 [==============================] - 62s 95ms/step - loss: 2.1917 - accuracy: 0.2587 - val_loss: 2.5384 - val_accuracy: 0.2118\nEpoch 7/30\n650/650 [==============================] - 62s 95ms/step - loss: 2.0078 - accuracy: 0.3033 - val_loss: 1.8697 - val_accuracy: 0.3457\nEpoch 8/30\n650/650 [==============================] - 62s 96ms/step - loss: 1.8715 - accuracy: 0.3392 - val_loss: 1.4298 - val_accuracy: 0.5069\nEpoch 9/30\n650/650 [==============================] - 62s 96ms/step - loss: 1.7397 - accuracy: 0.3845 - val_loss: 1.3716 - val_accuracy: 0.5382\nEpoch 10/30\n650/650 [==============================] - 62s 96ms/step - loss: 1.6542 - accuracy: 0.4072 - val_loss: 1.7919 - val_accuracy: 0.3835\nEpoch 11/30\n650/650 [==============================] - 62s 96ms/step - loss: 1.5493 - accuracy: 0.4490 - val_loss: 1.3595 - val_accuracy: 0.5741\nEpoch 12/30\n650/650 [==============================] - 62s 96ms/step - loss: 1.4597 - accuracy: 0.4714 - val_loss: 1.0023 - val_accuracy: 0.6354\nEpoch 13/30\n650/650 [==============================] - 63s 97ms/step - loss: 1.3800 - accuracy: 0.5054 - val_loss: 1.8013 - val_accuracy: 0.4105\nEpoch 14/30\n650/650 [==============================] - 62s 96ms/step - loss: 1.3440 - accuracy: 0.5130 - val_loss: 1.2424 - val_accuracy: 0.5775\nEpoch 15/30\n650/650 [==============================] - 61s 94ms/step - loss: 1.3061 - accuracy: 0.5244 - val_loss: 0.8434 - val_accuracy: 0.6910\nEpoch 16/30\n650/650 [==============================] - 62s 95ms/step - loss: 1.2195 - accuracy: 0.5568 - val_loss: 0.8396 - val_accuracy: 0.7149\nEpoch 17/30\n650/650 [==============================] - 62s 95ms/step - loss: 1.1790 - accuracy: 0.5687 - val_loss: 0.8363 - val_accuracy: 0.7226\nEpoch 18/30\n650/650 [==============================] - 61s 94ms/step - loss: 1.1135 - accuracy: 0.5930 - val_loss: 0.6257 - val_accuracy: 0.8133\nEpoch 19/30\n650/650 [==============================] - 62s 95ms/step - loss: 1.0704 - accuracy: 0.6174 - val_loss: 0.5782 - val_accuracy: 0.8291\nEpoch 20/30\n650/650 [==============================] - 61s 94ms/step - loss: 1.0325 - accuracy: 0.6268 - val_loss: 0.5889 - val_accuracy: 0.8102\nEpoch 21/30\n650/650 [==============================] - 62s 96ms/step - loss: 1.0013 - accuracy: 0.6426 - val_loss: 2.2494 - val_accuracy: 0.5104\nEpoch 22/30\n650/650 [==============================] - 61s 94ms/step - loss: 0.9953 - accuracy: 0.6460 - val_loss: 0.5548 - val_accuracy: 0.8329\nEpoch 23/30\n650/650 [==============================] - 62s 95ms/step - loss: 0.9315 - accuracy: 0.6614 - val_loss: 0.5031 - val_accuracy: 0.8434\nEpoch 24/30\n650/650 [==============================] - 71s 109ms/step - loss: 0.9428 - accuracy: 0.6775 - val_loss: 0.4596 - val_accuracy: 0.8615\nEpoch 25/30\n650/650 [==============================] - 70s 107ms/step - loss: 0.8717 - accuracy: 0.6969 - val_loss: 0.4574 - val_accuracy: 0.8762\nEpoch 26/30\n650/650 [==============================] - 61s 94ms/step - loss: 0.8476 - accuracy: 0.7016 - val_loss: 1.4003 - val_accuracy: 0.6088\nEpoch 27/30\n650/650 [==============================] - 61s 95ms/step - loss: 0.8604 - accuracy: 0.7081 - val_loss: 0.4067 - val_accuracy: 0.8889\nEpoch 28/30\n650/650 [==============================] - 61s 95ms/step - loss: 0.8373 - accuracy: 0.7173 - val_loss: 0.5294 - val_accuracy: 0.8561\nEpoch 29/30\n650/650 [==============================] - 62s 95ms/step - loss: 0.8138 - accuracy: 0.7189 - val_loss: 1.1902 - val_accuracy: 0.7172\nEpoch 30/30\n650/650 [==============================] - 61s 94ms/step - loss: 0.7783 - accuracy: 0.7344 - val_loss: 0.3644 - val_accuracy: 0.8835\n",
          "output_type": "stream"
        },
        {
          "execution_count": 186,
          "output_type": "execute_result",
          "data": {
            "text/plain": "<keras.callbacks.History at 0x7fc4844758d0>"
          },
          "metadata": {}
        }
      ]
    },
    {
      "cell_type": "code",
      "source": [
        "pred2 = model2.predict_generator(generator=test_generator_df)\n",
        "result_pred = []\n",
        "for i in pred2.argmax(-1):\n",
        "    result_pred.append(upper[i])\n",
        "print(result_pred)\n",
        "print(accuracy_score(result_pred,y_test))"
      ],
      "metadata": {
        "execution": {
          "iopub.status.busy": "2022-11-25T05:52:04.795621Z",
          "iopub.execute_input": "2022-11-25T05:52:04.796099Z",
          "iopub.status.idle": "2022-11-25T05:52:05.072809Z",
          "shell.execute_reply.started": "2022-11-25T05:52:04.796058Z",
          "shell.execute_reply": "2022-11-25T05:52:05.071140Z"
        },
        "trusted": true,
        "id": "XLjEsDZq1zwR",
        "outputId": "cc7c3751-802c-4185-9be4-186a78ca1558"
      },
      "execution_count": null,
      "outputs": [
        {
          "name": "stderr",
          "text": "/opt/conda/lib/python3.7/site-packages/keras/engine/training.py:2035: UserWarning: `Model.predict_generator` is deprecated and will be removed in a future version. Please use `Model.predict`, which supports generators.\n  warnings.warn('`Model.predict_generator` is deprecated and '\n",
          "output_type": "stream"
        },
        {
          "name": "stdout",
          "text": "['A', 'E', 'L', 'N', 'S', 'D', 'G', 'I', 'W', 'N', 'B', 'X', 'H', 'Q', 'C', 'T', 'P', 'V', 'Y', 'U', 'Y', 'O', 'B', 'U', 'F', 'Z', 'J', 'K']\n0.8571428571428571\n",
          "output_type": "stream"
        }
      ]
    },
    {
      "cell_type": "markdown",
      "source": [
        ">Berdasarkan hasil prediksi pada model CNN kedua, dapat dilihat bahwa terjadi peningkatan yang signifikan pada akurasi. Yang semula 60% menjadi 85% pada test data set.\n",
        "\n",
        ">Dapat dilihat juga bahwa loss yang ada selama proses fitting untuk setiap epoch juga menurun cukup banyak. Dari yang awalnya di base model lebih dari 1 lossnya saat epoch terakhir, kali ini hanya 0.77 pada traing data dan 0.36 pada validation data\n",
        "\n",
        ">Saya tidak menggunakan classification report karena test data set hanya masing-masing memiliki 1 data per class. Alhasil, f1-score, recall, dan precision tidak mampu menggambarkan performa model dengan semestinya."
      ],
      "metadata": {
        "id": "qkzKV4W77C6L"
      }
    },
    {
      "cell_type": "markdown",
      "source": [
        "#Model Improvement Attempt 2"
      ],
      "metadata": {
        "id": "uGseonwS7pI8"
      }
    },
    {
      "cell_type": "markdown",
      "source": [
        ">Disini, saya mencoba untuk mengurangi jumlah layer dropout, dari yang semula 2 menjadi 1. Hal ini karena berdasarkan https://stackoverflow.com/questions/46841362/where-dropout-should-be-inserted-fully-connected-layer-convolutional-layer, drop out layer harus diletakkan diantara hidden dense layer. Karena pada attempt sebelumnya juga ditambahkan sebelum output layer, saya hilangkan pada attempt ini."
      ],
      "metadata": {
        "id": "fBQQCFcy7rfY"
      }
    },
    {
      "cell_type": "code",
      "source": [
        "keras.backend.clear_session()\n",
        "model3 = Sequential()\n",
        "model3.add(layers.Conv2D(32,kernel_size=5, input_shape=(64,64,3)))\n",
        "model3.add(layers.Activation('relu'))\n",
        "model3.add(layers.BatchNormalization())\n",
        "\n",
        "model3.add(layers.MaxPooling2D(pool_size=(3,3), strides=2))\n",
        "model3.add(layers.Conv2D(64,kernel_size=5))\n",
        "model3.add(layers.Activation('relu'))\n",
        "model3.add(layers.BatchNormalization())\n",
        "\n",
        "model3.add(layers.MaxPooling2D(pool_size=(3,3), strides=2))\n",
        "model3.add(layers.Conv2D(128,kernel_size=5))\n",
        "model3.add(layers.Activation('relu'))\n",
        "model3.add(layers.BatchNormalization())\n",
        "\n",
        "model3.add(layers.MaxPooling2D(pool_size=(3,3), strides=2))\n",
        "model3.add(layers.Flatten())\n",
        "model3.add(layers.Dense(128))\n",
        "model3.add(layers.Activation('relu'))\n",
        "model3.add(layers.Dropout(0.5))\n",
        "model3.add(layers.Dense(64))\n",
        "model3.add(layers.Activation('relu'))\n",
        "\n",
        "model3.add(layers.Dense(26,activation=\"softmax\"))\n",
        "model3.summary()\n",
        "model3.compile(optimizer = 'adam', loss = 'categorical_crossentropy', metrics=['accuracy'])"
      ],
      "metadata": {
        "execution": {
          "iopub.status.busy": "2022-11-25T06:16:48.153863Z",
          "iopub.execute_input": "2022-11-25T06:16:48.154325Z",
          "iopub.status.idle": "2022-11-25T06:16:48.357913Z",
          "shell.execute_reply.started": "2022-11-25T06:16:48.154287Z",
          "shell.execute_reply": "2022-11-25T06:16:48.356414Z"
        },
        "trusted": true,
        "id": "I02KyCxb1zwR",
        "outputId": "b9853a9c-e096-4f0b-f42a-200ce3b75165"
      },
      "execution_count": null,
      "outputs": [
        {
          "name": "stdout",
          "text": "Model: \"sequential\"\n_________________________________________________________________\nLayer (type)                 Output Shape              Param #   \n=================================================================\nconv2d (Conv2D)              (None, 60, 60, 32)        2432      \n_________________________________________________________________\nactivation (Activation)      (None, 60, 60, 32)        0         \n_________________________________________________________________\nbatch_normalization (BatchNo (None, 60, 60, 32)        128       \n_________________________________________________________________\nmax_pooling2d (MaxPooling2D) (None, 29, 29, 32)        0         \n_________________________________________________________________\nconv2d_1 (Conv2D)            (None, 25, 25, 64)        51264     \n_________________________________________________________________\nactivation_1 (Activation)    (None, 25, 25, 64)        0         \n_________________________________________________________________\nbatch_normalization_1 (Batch (None, 25, 25, 64)        256       \n_________________________________________________________________\nmax_pooling2d_1 (MaxPooling2 (None, 12, 12, 64)        0         \n_________________________________________________________________\nconv2d_2 (Conv2D)            (None, 8, 8, 128)         204928    \n_________________________________________________________________\nactivation_2 (Activation)    (None, 8, 8, 128)         0         \n_________________________________________________________________\nbatch_normalization_2 (Batch (None, 8, 8, 128)         512       \n_________________________________________________________________\nmax_pooling2d_2 (MaxPooling2 (None, 3, 3, 128)         0         \n_________________________________________________________________\nflatten (Flatten)            (None, 1152)              0         \n_________________________________________________________________\ndense (Dense)                (None, 128)               147584    \n_________________________________________________________________\nactivation_3 (Activation)    (None, 128)               0         \n_________________________________________________________________\ndropout (Dropout)            (None, 128)               0         \n_________________________________________________________________\ndense_1 (Dense)              (None, 64)                8256      \n_________________________________________________________________\nactivation_4 (Activation)    (None, 64)                0         \n_________________________________________________________________\ndense_2 (Dense)              (None, 26)                1690      \n=================================================================\nTotal params: 417,050\nTrainable params: 416,602\nNon-trainable params: 448\n_________________________________________________________________\n",
          "output_type": "stream"
        }
      ]
    },
    {
      "cell_type": "code",
      "source": [
        "batch_size = 32\n",
        "model3.fit_generator(train_generator_df, \n",
        "                    epochs=30,  # one forward/backward pass of training data\n",
        "                    steps_per_epoch = X_train.shape[0]//batch_size,  # number of images comprising of one epoch\n",
        "                    validation_data = valid_generator_df,  # Or validation_data=valid_generator\n",
        "                    validation_steps = X_val.shape[0]//batch_size)"
      ],
      "metadata": {
        "execution": {
          "iopub.status.busy": "2022-11-25T06:16:50.761849Z",
          "iopub.execute_input": "2022-11-25T06:16:50.763581Z",
          "iopub.status.idle": "2022-11-25T06:56:12.484136Z",
          "shell.execute_reply.started": "2022-11-25T06:16:50.763511Z",
          "shell.execute_reply": "2022-11-25T06:56:12.482559Z"
        },
        "trusted": true,
        "id": "bjO1oXnc1zwS",
        "outputId": "5e47c36a-e01c-410f-f32f-21d778f25910"
      },
      "execution_count": null,
      "outputs": [
        {
          "name": "stderr",
          "text": "/opt/conda/lib/python3.7/site-packages/keras/engine/training.py:1972: UserWarning: `Model.fit_generator` is deprecated and will be removed in a future version. Please use `Model.fit`, which supports generators.\n  warnings.warn('`Model.fit_generator` is deprecated and '\n",
          "output_type": "stream"
        },
        {
          "name": "stdout",
          "text": "Epoch 1/30\n650/650 [==============================] - 75s 113ms/step - loss: 2.9128 - accuracy: 0.1389 - val_loss: 2.2466 - val_accuracy: 0.2693\nEpoch 2/30\n650/650 [==============================] - 68s 105ms/step - loss: 2.0921 - accuracy: 0.3109 - val_loss: 1.7499 - val_accuracy: 0.4398\nEpoch 3/30\n650/650 [==============================] - 67s 102ms/step - loss: 1.6285 - accuracy: 0.4442 - val_loss: 1.1352 - val_accuracy: 0.6161\nEpoch 4/30\n650/650 [==============================] - 64s 99ms/step - loss: 1.3006 - accuracy: 0.5474 - val_loss: 1.2198 - val_accuracy: 0.5976\nEpoch 5/30\n650/650 [==============================] - 63s 97ms/step - loss: 1.1137 - accuracy: 0.6165 - val_loss: 0.7781 - val_accuracy: 0.7199\nEpoch 6/30\n650/650 [==============================] - 62s 96ms/step - loss: 0.9719 - accuracy: 0.6609 - val_loss: 0.6921 - val_accuracy: 0.7330\nEpoch 7/30\n650/650 [==============================] - 62s 96ms/step - loss: 0.8391 - accuracy: 0.7161 - val_loss: 0.6633 - val_accuracy: 0.7612\nEpoch 8/30\n650/650 [==============================] - 62s 95ms/step - loss: 0.7062 - accuracy: 0.7510 - val_loss: 0.7634 - val_accuracy: 0.7303\nEpoch 9/30\n650/650 [==============================] - 63s 96ms/step - loss: 0.6435 - accuracy: 0.7802 - val_loss: 0.4337 - val_accuracy: 0.8553\nEpoch 10/30\n650/650 [==============================] - 63s 96ms/step - loss: 0.5713 - accuracy: 0.8102 - val_loss: 0.5877 - val_accuracy: 0.7963\nEpoch 11/30\n650/650 [==============================] - 64s 98ms/step - loss: 0.5124 - accuracy: 0.8224 - val_loss: 1.2921 - val_accuracy: 0.6370\nEpoch 12/30\n650/650 [==============================] - 64s 98ms/step - loss: 0.5128 - accuracy: 0.8300 - val_loss: 0.5885 - val_accuracy: 0.8152\nEpoch 13/30\n650/650 [==============================] - 62s 96ms/step - loss: 0.4496 - accuracy: 0.8489 - val_loss: 0.6411 - val_accuracy: 0.7909\nEpoch 14/30\n650/650 [==============================] - 62s 95ms/step - loss: 0.3774 - accuracy: 0.8748 - val_loss: 0.2116 - val_accuracy: 0.9279\nEpoch 15/30\n650/650 [==============================] - 63s 96ms/step - loss: 0.3819 - accuracy: 0.8765 - val_loss: 0.2720 - val_accuracy: 0.9105\nEpoch 16/30\n650/650 [==============================] - 64s 98ms/step - loss: 0.3358 - accuracy: 0.8880 - val_loss: 0.2034 - val_accuracy: 0.9421\nEpoch 17/30\n650/650 [==============================] - 63s 96ms/step - loss: 0.3251 - accuracy: 0.8903 - val_loss: 0.5813 - val_accuracy: 0.8241\nEpoch 18/30\n650/650 [==============================] - 73s 113ms/step - loss: 0.3303 - accuracy: 0.8928 - val_loss: 0.2306 - val_accuracy: 0.9240\nEpoch 19/30\n650/650 [==============================] - 65s 100ms/step - loss: 0.3262 - accuracy: 0.8931 - val_loss: 0.1539 - val_accuracy: 0.9537\nEpoch 20/30\n650/650 [==============================] - 64s 98ms/step - loss: 0.2759 - accuracy: 0.9075 - val_loss: 0.1253 - val_accuracy: 0.9564\nEpoch 21/30\n650/650 [==============================] - 63s 96ms/step - loss: 0.2688 - accuracy: 0.9166 - val_loss: 0.1113 - val_accuracy: 0.9653\nEpoch 22/30\n650/650 [==============================] - 63s 96ms/step - loss: 0.2672 - accuracy: 0.9093 - val_loss: 0.4669 - val_accuracy: 0.8700\nEpoch 23/30\n650/650 [==============================] - 63s 97ms/step - loss: 0.2561 - accuracy: 0.9192 - val_loss: 0.4476 - val_accuracy: 0.8623\nEpoch 24/30\n650/650 [==============================] - 71s 109ms/step - loss: 0.2557 - accuracy: 0.9218 - val_loss: 0.1460 - val_accuracy: 0.9525\nEpoch 25/30\n650/650 [==============================] - 62s 96ms/step - loss: 0.2440 - accuracy: 0.9205 - val_loss: 0.4947 - val_accuracy: 0.8522\nEpoch 26/30\n650/650 [==============================] - 63s 96ms/step - loss: 0.2104 - accuracy: 0.9321 - val_loss: 0.2598 - val_accuracy: 0.9221\nEpoch 27/30\n650/650 [==============================] - 64s 98ms/step - loss: 0.2293 - accuracy: 0.9260 - val_loss: 0.1238 - val_accuracy: 0.9579\nEpoch 28/30\n650/650 [==============================] - 62s 96ms/step - loss: 0.2033 - accuracy: 0.9377 - val_loss: 0.0973 - val_accuracy: 0.9657\nEpoch 29/30\n650/650 [==============================] - 63s 97ms/step - loss: 0.1958 - accuracy: 0.9405 - val_loss: 0.1228 - val_accuracy: 0.9618\nEpoch 30/30\n650/650 [==============================] - 62s 96ms/step - loss: 0.1867 - accuracy: 0.9417 - val_loss: 0.3033 - val_accuracy: 0.9109\n",
          "output_type": "stream"
        },
        {
          "execution_count": 235,
          "output_type": "execute_result",
          "data": {
            "text/plain": "<keras.callbacks.History at 0x7fc07421ae90>"
          },
          "metadata": {}
        }
      ]
    },
    {
      "cell_type": "code",
      "source": [
        "pred3 = model3.predict_generator(generator=test_generator_df)\n",
        "result_pred = []\n",
        "for i in pred3.argmax(-1):\n",
        "    result_pred.append(upper[i])\n",
        "print(result_pred)\n",
        "print(accuracy_score(result_pred,y_test))"
      ],
      "metadata": {
        "execution": {
          "iopub.status.busy": "2022-11-25T06:59:14.120713Z",
          "iopub.execute_input": "2022-11-25T06:59:14.121230Z",
          "iopub.status.idle": "2022-11-25T06:59:14.405756Z",
          "shell.execute_reply.started": "2022-11-25T06:59:14.121173Z",
          "shell.execute_reply": "2022-11-25T06:59:14.404226Z"
        },
        "trusted": true,
        "id": "VRULqeju1zwS",
        "outputId": "850d5e76-d413-416e-c26d-b72f3850369c"
      },
      "execution_count": null,
      "outputs": [
        {
          "name": "stderr",
          "text": "/opt/conda/lib/python3.7/site-packages/keras/engine/training.py:2035: UserWarning: `Model.predict_generator` is deprecated and will be removed in a future version. Please use `Model.predict`, which supports generators.\n  warnings.warn('`Model.predict_generator` is deprecated and '\n",
          "output_type": "stream"
        },
        {
          "name": "stdout",
          "text": "['A', 'E', 'L', 'N', 'S', 'D', 'G', 'I', 'W', 'M', 'B', 'X', 'H', 'Q', 'C', 'T', 'P', 'W', 'Y', 'U', 'U', 'O', 'B', 'R', 'F', 'Z', 'J', 'K']\n0.8928571428571429\n",
          "output_type": "stream"
        }
      ]
    },
    {
      "cell_type": "markdown",
      "source": [
        ">Dapat dilihat, bahwa akurasi meningkat lagi menjadi 89.28%. Berarti rujukan di atas berhasil dilaksanakan."
      ],
      "metadata": {
        "id": "8Y8vpzw88GtU"
      }
    },
    {
      "cell_type": "markdown",
      "source": [
        "#Evaluasi"
      ],
      "metadata": {
        "id": "jy52gV9Q8RCQ"
      }
    },
    {
      "cell_type": "markdown",
      "source": [
        ">Dari ketiga architecture CNN termasuk base line, didapatkan akurasi terbaik, yaitu 89.28% pada attempt ke-2 improvisasi model.\n",
        "\n",
        ">Analisa saya berdasarkan y_test, adalah karena pada train dan valid data set, tidak terdapat class 'nothing' dan class 'space' yang terdapat pada test data set. Sehingga, kecil model belum tentu mampu mengklasifikasi image tersebut karena tidak ada pada train data set."
      ],
      "metadata": {
        "id": "_m1KWfIu8Sa5"
      }
    }
  ]
}